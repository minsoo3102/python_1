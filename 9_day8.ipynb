{
  "nbformat": 4,
  "nbformat_minor": 0,
  "metadata": {
    "colab": {
      "provenance": [],
      "authorship_tag": "ABX9TyOOL4bLuRR8Blc0FTUH41z9",
      "include_colab_link": true
    },
    "kernelspec": {
      "name": "python3",
      "display_name": "Python 3"
    },
    "language_info": {
      "name": "python"
    }
  },
  "cells": [
    {
      "cell_type": "markdown",
      "metadata": {
        "id": "view-in-github",
        "colab_type": "text"
      },
      "source": [
        "<a href=\"https://colab.research.google.com/github/minsoo3102/python_1/blob/main/9_day8.ipynb\" target=\"_parent\"><img src=\"https://colab.research.google.com/assets/colab-badge.svg\" alt=\"Open In Colab\"/></a>"
      ]
    },
    {
      "cell_type": "markdown",
      "source": [
        "lstrip(), rstrip(), strip()"
      ],
      "metadata": {
        "id": "cZai5tW2xY9J"
      }
    },
    {
      "cell_type": "code",
      "execution_count": 1,
      "metadata": {
        "colab": {
          "base_uri": "https://localhost:8080/"
        },
        "id": "BKU4PPllxEBd",
        "outputId": "86f39a45-8899-45fe-93fb-bba08f9552eb"
      },
      "outputs": [
        {
          "output_type": "stream",
          "name": "stdout",
          "text": [
            "test  !   \n",
            ".test.~~\n",
            "test!\n"
          ]
        }
      ],
      "source": [
        "a= '   test  !   '\n",
        "b= '~~.test.~~'\n",
        "c= '~test!'\n",
        "print( a.lstrip())\n",
        "print( b.lstrip('~'))\n",
        "print( c.lstrip('~!'))"
      ]
    },
    {
      "cell_type": "code",
      "source": [
        "a= '   test  !   '\n",
        "b= '~~.test.~~'\n",
        "c= '~test!'\n",
        "print( a.lstrip())\n",
        "print( b.lstrip('~'))\n",
        "print( c.lstrip('~!'))\n",
        "\n",
        "text = ' water boils at 100 degrees '\n",
        "print('[' + text.rstrip() + ']')\n",
        "print('[' + text.lstrip() + ']')\n",
        "print('[' + text.strip() + ']')"
      ],
      "metadata": {
        "colab": {
          "base_uri": "https://localhost:8080/"
        },
        "id": "zxatRdWLxdrE",
        "outputId": "8040d324-3af5-4be2-ab44-72c58a3ffa88"
      },
      "execution_count": 2,
      "outputs": [
        {
          "output_type": "stream",
          "name": "stdout",
          "text": [
            "test  !   \n",
            ".test.~~\n",
            "test!\n",
            "[ water boils at 100 degrees]\n",
            "[water boils at 100 degrees ]\n",
            "[water boils at 100 degrees]\n"
          ]
        }
      ]
    },
    {
      "cell_type": "code",
      "source": [
        "text = '0000000Water boils at 100 degrees 000'\n",
        "print(text.lstrip('0'))\n",
        "print(text.rstrip('0'))\n",
        "print(text.strip('0'))\n",
        "\n",
        "text = \",,,,,123.....water....pp\"\n",
        "print(text.lstrip(',123.p'))\n",
        "print(text.rstrip(',123.p'))\n",
        "print(text.strip(',123.p'))\n",
        "\n",
        "text = ' Water boils at 100 degrees '\n",
        "print(text.lstrip(' Water'))\n",
        "print(text.rstrip(' degrees '))\n",
        "print(text.strip(' degrees '))\n",
        ""
      ],
      "metadata": {
        "colab": {
          "base_uri": "https://localhost:8080/"
        },
        "id": "1e6iHnO5xlJF",
        "outputId": "c1a4006b-67d5-4298-e85f-86a451a97a4d"
      },
      "execution_count": 3,
      "outputs": [
        {
          "output_type": "stream",
          "name": "stdout",
          "text": [
            "Water boils at 100 degrees 000\n",
            "0000000Water boils at 100 degrees \n",
            "Water boils at 100 degrees \n",
            "water....pp\n",
            ",,,,,123.....water\n",
            "water\n",
            "boils at 100 degrees \n",
            " Water boils at 100\n",
            "Water boils at 100\n"
          ]
        }
      ]
    },
    {
      "cell_type": "code",
      "source": [
        "text = '0000000Water boils at 100 degrees 000'\n",
        "print(text.lstrip('0'))\n",
        "print(text.rstrip('0'))\n",
        "print(text.strip('0'))\n",
        "\n",
        "text = \",,,,,123.....water....pp\"\n",
        "print(text.lstrip(',123.p'))\n",
        "print(text.rstrip(',123.p'))\n",
        "print(text.strip(',123.p'))\n",
        "\n",
        "text = ' Water boils at 100 degrees '\n",
        "print(text.lstrip(' Water'))\n",
        "print(text.rstrip(' degrees '))\n",
        "print(text.strip(' degrees '))\n",
        ""
      ],
      "metadata": {
        "colab": {
          "base_uri": "https://localhost:8080/"
        },
        "id": "3UxW07aXx6cg",
        "outputId": "0ad4b108-153e-4f88-ca43-328d6adbe86e"
      },
      "execution_count": 4,
      "outputs": [
        {
          "output_type": "stream",
          "name": "stdout",
          "text": [
            "Water boils at 100 degrees 000\n",
            "0000000Water boils at 100 degrees \n",
            "Water boils at 100 degrees \n",
            "water....pp\n",
            ",,,,,123.....water\n",
            "water\n",
            "boils at 100 degrees \n",
            " Water boils at 100\n",
            "Water boils at 100\n"
          ]
        }
      ]
    },
    {
      "cell_type": "markdown",
      "source": [
        "isspace()"
      ],
      "metadata": {
        "id": "DPpOZDrxx9OH"
      }
    },
    {
      "cell_type": "code",
      "source": [
        "txt = \" Hz \"\n",
        "x=txt.isspace()\n",
        "print(x)\n",
        "\n",
        "sentence = input(\"문자열을 입력하시오: \")\n",
        "table = { \"알파벳\" : 0, \"숫자\" : 0, \"빈칸\" : 0}\n",
        "\n",
        "for i in sentence :\n",
        "    if (i.isalpha()):\n",
        "        table[\"알파벳\"] +=1\n",
        "    elif (i.isdigit()):\n",
        "        table[\"숫자\"] +=1\n",
        "    elif (i.isspace()):\n",
        "        table[\"빈칸\"] +=1\n",
        "print(table)"
      ],
      "metadata": {
        "colab": {
          "base_uri": "https://localhost:8080/"
        },
        "id": "7lWy2bChx95r",
        "outputId": "a23ee1e3-65f9-4008-f13e-1667d5cb6d63"
      },
      "execution_count": 5,
      "outputs": [
        {
          "output_type": "stream",
          "name": "stdout",
          "text": [
            "False\n",
            "문자열을 입력하시오: 3\n",
            "{'알파벳': 0, '숫자': 1, '빈칸': 0}\n"
          ]
        }
      ]
    },
    {
      "cell_type": "markdown",
      "source": [
        "ljust(), center(), rjust()"
      ],
      "metadata": {
        "id": "8g41EIV8yHXc"
      }
    },
    {
      "cell_type": "code",
      "source": [
        "s = '가나다라'\n",
        "n = 20\n",
        "\n",
        "print(s.ljust(n)) # 좌측 정렬\n",
        "\n",
        "print(s.center(n)) # 가운데 정렬\n",
        "\n",
        "print(s.rjust(n)) # 우측 정렬"
      ],
      "metadata": {
        "colab": {
          "base_uri": "https://localhost:8080/"
        },
        "id": "2LZ4uR6AyH9x",
        "outputId": "d1def349-9a4f-4cfa-b96e-9d3ad7e5d0ce"
      },
      "execution_count": 6,
      "outputs": [
        {
          "output_type": "stream",
          "name": "stdout",
          "text": [
            "가나다라                \n",
            "        가나다라        \n",
            "                가나다라\n"
          ]
        }
      ]
    },
    {
      "cell_type": "markdown",
      "source": [
        "split()"
      ],
      "metadata": {
        "id": "b9PUfCxeyNM7"
      }
    },
    {
      "cell_type": "code",
      "source": [
        "s =\"aa.bb.cc.BlockDMask.ee.ff.gg.python.example\"\n",
        "print(f'{s}')\n",
        "\n",
        "r0 = s.split()\n",
        "r1 = s.split('.', 3)\n",
        "r2 = s.split(sep='.', maxsplit=4)\n",
        "r3 = s.split('.',maxsplit=3)\n",
        "print(f\"\\ns.split()\\n{r0}\")\n",
        "print(f\"\\ns.split('.', 4)\\n{r1}\")\n",
        "print(f\"\\ns.split(sep='.', maxsplit=3)\\n{r2}\")\n",
        "print(f\"\\ns.split('.', maxsplit=3)\\n{r3}\")"
      ],
      "metadata": {
        "colab": {
          "base_uri": "https://localhost:8080/"
        },
        "id": "lQ2ku8jgyNlo",
        "outputId": "8bbe5738-21e0-4cae-aa4a-7d5b266171aa"
      },
      "execution_count": 7,
      "outputs": [
        {
          "output_type": "stream",
          "name": "stdout",
          "text": [
            "aa.bb.cc.BlockDMask.ee.ff.gg.python.example\n",
            "\n",
            "s.split()\n",
            "['aa.bb.cc.BlockDMask.ee.ff.gg.python.example']\n",
            "\n",
            "s.split('.', 4)\n",
            "['aa', 'bb', 'cc', 'BlockDMask.ee.ff.gg.python.example']\n",
            "\n",
            "s.split(sep='.', maxsplit=3)\n",
            "['aa', 'bb', 'cc', 'BlockDMask', 'ee.ff.gg.python.example']\n",
            "\n",
            "s.split('.', maxsplit=3)\n",
            "['aa', 'bb', 'cc', 'BlockDMask.ee.ff.gg.python.example']\n"
          ]
        }
      ]
    },
    {
      "cell_type": "markdown",
      "source": [
        "splitlines()"
      ],
      "metadata": {
        "id": "JLr5hHzRyRiL"
      }
    },
    {
      "cell_type": "code",
      "source": [
        "txt = \"홈짱닷컴\\nHomzzang.com\"\n",
        "\n",
        "x = txt.splitlines()\n",
        "\n",
        "print(x)\n",
        "\n",
        "g = 'Milk\\nChicken\\r\\nBread\\rButter'\n",
        "\n",
        "print(g.splitlines())\n",
        "print(g.splitlines(True))\n",
        "\n",
        "g = 'Milk Chicken Bread Butter'\n",
        "print(g.splitlines())\n",
        ""
      ],
      "metadata": {
        "colab": {
          "base_uri": "https://localhost:8080/"
        },
        "id": "QWrel-9OyR6x",
        "outputId": "d3d98647-001c-469d-a416-7e27b9d02e57"
      },
      "execution_count": 8,
      "outputs": [
        {
          "output_type": "stream",
          "name": "stdout",
          "text": [
            "['홈짱닷컴', 'Homzzang.com']\n",
            "['Milk', 'Chicken', 'Bread', 'Butter']\n",
            "['Milk\\n', 'Chicken\\r\\n', 'Bread\\r', 'Butter']\n",
            "['Milk Chicken Bread Butter']\n"
          ]
        }
      ]
    },
    {
      "cell_type": "markdown",
      "source": [
        "replace()"
      ],
      "metadata": {
        "id": "m0PA0Nv3yVkK"
      }
    },
    {
      "cell_type": "code",
      "source": [
        "text = '123,456,789,999'\n",
        "\n",
        "replaceAll= text.replace(\",\",\"!\")\n",
        "replace_t1= text.replace(\",\",\"!\",1)\n",
        "replace_t2= text.replace(\",\",\"!\",2)\n",
        "replace_t3= text.replace(\",\",\"1\",3)\n",
        "print(\"결과 :\")\n",
        "print(replaceAll)\n",
        "print(replace_t1)\n",
        "print(replace_t2)\n",
        "print(replace_t3)"
      ],
      "metadata": {
        "colab": {
          "base_uri": "https://localhost:8080/"
        },
        "id": "Z0McvzaxyXEK",
        "outputId": "45d58a91-6057-4b8d-b578-f6829385a520"
      },
      "execution_count": 9,
      "outputs": [
        {
          "output_type": "stream",
          "name": "stdout",
          "text": [
            "결과 :\n",
            "123!456!789!999\n",
            "123!456,789,999\n",
            "123!456!789,999\n",
            "123145617891999\n"
          ]
        }
      ]
    },
    {
      "cell_type": "markdown",
      "source": [
        "join()"
      ],
      "metadata": {
        "id": "DpqHnK35ybAk"
      }
    },
    {
      "cell_type": "code",
      "source": [
        "a = ['a', 'b', 'c', 'd', '1', '2', '3']\n",
        "print(a)\n",
        "print()\n",
        "\n",
        "result1 = \"\".join(a)\n",
        "print(result1)\n",
        "\n",
        "\n",
        "result2 = ''\n",
        "for v in a:\n",
        "    result2 += v\n",
        "\n",
        "print(result2)"
      ],
      "metadata": {
        "colab": {
          "base_uri": "https://localhost:8080/"
        },
        "id": "H_tKQMmfyhce",
        "outputId": "97a2cb31-5712-49c1-f6b5-4b16edf19a10"
      },
      "execution_count": 11,
      "outputs": [
        {
          "output_type": "stream",
          "name": "stdout",
          "text": [
            "['a', 'b', 'c', 'd', '1', '2', '3']\n",
            "\n",
            "abcd123\n",
            "abcd123\n"
          ]
        }
      ]
    },
    {
      "cell_type": "markdown",
      "source": [
        "zfill()"
      ],
      "metadata": {
        "id": "0cICZvJ9ykKn"
      }
    },
    {
      "cell_type": "code",
      "source": [
        "print( \"3\".zfill(3) )\n",
        "\n",
        "print( \"s\".zfill(4) )\n",
        "\n",
        "\n",
        "for x in range(3):\n",
        "    print( str(x).zfill(4) )\n",
        "\n",
        "\n",
        "str = '1234'\n",
        "str_zero = str.zfill(8)\n",
        "print(str_zero)"
      ],
      "metadata": {
        "colab": {
          "base_uri": "https://localhost:8080/"
        },
        "id": "pP1ppbnkybXR",
        "outputId": "fe270244-e05a-48fd-9ac7-383a96c3aa9d"
      },
      "execution_count": 10,
      "outputs": [
        {
          "output_type": "stream",
          "name": "stdout",
          "text": [
            "003\n",
            "000s\n",
            "0000\n",
            "0001\n",
            "0002\n",
            "00001234\n"
          ]
        }
      ]
    },
    {
      "cell_type": "markdown",
      "source": [
        "ljust(), rjust()"
      ],
      "metadata": {
        "id": "wT68f3bryoQE"
      }
    },
    {
      "cell_type": "code",
      "source": [
        "a=\"abc\"\n",
        "\n",
        "print(a.rjust(10))\n",
        "\n",
        "print(a.rjust(10,'#'))\n",
        "\n",
        "b=\"def\"\n",
        "\n",
        "print(b.ljust(15))\n",
        "\n",
        "print(b.ljust(15, 'k'))"
      ],
      "metadata": {
        "colab": {
          "base_uri": "https://localhost:8080/"
        },
        "id": "tDMLLvdEywNp",
        "outputId": "a24da809-0d1b-4e99-b4d7-8dde50c888b3"
      },
      "execution_count": 13,
      "outputs": [
        {
          "output_type": "stream",
          "name": "stdout",
          "text": [
            "       abc\n",
            "#######abc\n",
            "def            \n",
            "defkkkkkkkkkkkk\n"
          ]
        }
      ]
    }
  ]
}