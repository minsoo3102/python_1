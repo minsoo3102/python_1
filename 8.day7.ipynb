{
  "nbformat": 4,
  "nbformat_minor": 0,
  "metadata": {
    "colab": {
      "provenance": [],
      "authorship_tag": "ABX9TyNpPWsot76czB7r6+fOtw5/",
      "include_colab_link": true
    },
    "kernelspec": {
      "name": "python3",
      "display_name": "Python 3"
    },
    "language_info": {
      "name": "python"
    }
  },
  "cells": [
    {
      "cell_type": "markdown",
      "metadata": {
        "id": "view-in-github",
        "colab_type": "text"
      },
      "source": [
        "<a href=\"https://colab.research.google.com/github/minsoo3102/python_1/blob/main/8.day7.ipynb\" target=\"_parent\"><img src=\"https://colab.research.google.com/assets/colab-badge.svg\" alt=\"Open In Colab\"/></a>"
      ]
    },
    {
      "cell_type": "markdown",
      "source": [
        "다양한 문자열 사용법-2"
      ],
      "metadata": {
        "id": "2qtQMpZ14hLA"
      }
    },
    {
      "cell_type": "markdown",
      "source": [
        "isalnum()"
      ],
      "metadata": {
        "id": "bqD7lHzf8Pn0"
      }
    },
    {
      "cell_type": "code",
      "execution_count": 7,
      "metadata": {
        "id": "yMQRhM9cB5h1",
        "colab": {
          "base_uri": "https://localhost:8080/"
        },
        "outputId": "81e08ce3-3d48-465c-97d4-b6dc2eb054d2"
      },
      "outputs": [
        {
          "output_type": "stream",
          "name": "stdout",
          "text": [
            "True\n",
            "True\n",
            "False\n",
            "False\n",
            "True\n",
            "True\n",
            "True\n",
            "False\n"
          ]
        }
      ],
      "source": [
        "text1 = \"네이스123\"\n",
        "text2 = \"123456\"\n",
        "text3 = \"!@#$\"\n",
        "text4 = \"!@#$1234\"\n",
        "text5 = \"WTF\"\n",
        "text6 = \"WTF123123\"\n",
        "text7 = \"한글\"\n",
        "text8 = \"한글!\"\n",
        "print(text1.isalnum())\n",
        "print(text2.isalnum())\n",
        "print(text3.isalnum())\n",
        "print(text4.isalnum())\n",
        "print(text5.isalnum())\n",
        "print(text6.isalnum())\n",
        "print(text7.isalnum())\n",
        "print(text8.isalnum())"
      ]
    },
    {
      "cell_type": "markdown",
      "source": [
        "isalpha()"
      ],
      "metadata": {
        "id": "GzIXwsdg8V2N"
      }
    },
    {
      "cell_type": "code",
      "source": [
        "text = \"!@#@!@#!@#!#!$#$^%%#@$네이스a\"\n",
        "text1 = \"네이스\"\n",
        "text2 = \"123123\"\n",
        "text3 = \"!@#!@#\"\n",
        "check = \"\"\n",
        "print(text1.isalpha())\n",
        "print(text2.isalpha())\n",
        "print(text3.isalpha())\n",
        "for i in text:\n",
        "   if i.isalpha():\n",
        "      check += i\n",
        "print(check)"
      ],
      "metadata": {
        "colab": {
          "base_uri": "https://localhost:8080/"
        },
        "id": "bXwU2XU18ZPT",
        "outputId": "1cc8496e-f328-4c91-d00f-a001d7518182"
      },
      "execution_count": 16,
      "outputs": [
        {
          "output_type": "stream",
          "name": "stdout",
          "text": [
            "True\n",
            "False\n",
            "False\n",
            "네이스a\n"
          ]
        }
      ]
    },
    {
      "cell_type": "markdown",
      "source": [
        "isdigit"
      ],
      "metadata": {
        "id": "O2fSf0-RBzc_"
      }
    },
    {
      "cell_type": "code",
      "source": [
        "a = \"BlackMask\"\n",
        "b = \"156456ashjkda\"\n",
        "c = \"123243443\"\n",
        "d = \"-12354412\"\n",
        "e = \"123.1234\"\n",
        "f = \"%\"\n",
        "g = \"0\"\n",
        "h = \"0123\"\n",
        "\n",
        "print(f\"str.isdigt('{a}') : {str.isdigit(a)}\")\n",
        "print(f\"str.isdigt('{b}') : {str.isdigit(b)}\")\n",
        "print(f\"str.isdigt('{c}') : {str.isdigit(c)}\")\n",
        "print(f\"str.isdigt('{d}') : {str.isdigit(d)}\")\n",
        "print(f\"str.isdigt('{e}') : {str.isdigit(e)}\")\n",
        "print(f\"str.isdigt('{f}') : {str.isdigit(f)}\")\n",
        "print(f\"str.isdigt('{g}') : {str.isdigit(g)}\")\n",
        "print(f\"str.isdigt('{h}') : {str.isdigit(h)}\")\n",
        "\n",
        "print(f\"'{a}'.isdigit() : {a.isdigit()}\")\n",
        "print(f\"'{b}'.isdigit() : {b.isdigit()}\")\n",
        "print(f\"'{c}'.isdigit() : {c.isdigit()}\")\n",
        "print(f\"'{d}'.isdigit() : {d.isdigit()}\")\n",
        "print(f\"'{e}'.isdigit() : {e.isdigit()}\")\n",
        "print(f\"'{f}'.isdigit() : {f.isdigit()}\")\n",
        "print(f\"'{g}'.isdigit() : {g.isdigit()}\")\n",
        "print(f\"'{h}'.isdigit() : {h.isdigit()}\")\n",
        "print(f\"'{i}'.isdigit() : {i.isdigit()}\")"
      ],
      "metadata": {
        "colab": {
          "base_uri": "https://localhost:8080/"
        },
        "id": "onFippPo_RHd",
        "outputId": "fab5fd64-0592-4fec-fbd4-c6b10f674af2"
      },
      "execution_count": 19,
      "outputs": [
        {
          "output_type": "stream",
          "name": "stdout",
          "text": [
            "str.isdigt('BlackMask') : False\n",
            "str.isdigt('156456ashjkda') : False\n",
            "str.isdigt('123243443') : True\n",
            "str.isdigt('-12354412') : False\n",
            "str.isdigt('123.1234') : False\n",
            "str.isdigt('%') : False\n",
            "str.isdigt('0') : True\n",
            "str.isdigt('0123') : True\n",
            "'BlackMask'.isdigit() : False\n",
            "'156456ashjkda'.isdigit() : False\n",
            "'123243443'.isdigit() : True\n",
            "'-12354412'.isdigit() : False\n",
            "'123.1234'.isdigit() : False\n",
            "'%'.isdigit() : False\n",
            "'0'.isdigit() : True\n",
            "'0123'.isdigit() : True\n",
            "'a'.isdigit() : False\n"
          ]
        }
      ]
    },
    {
      "cell_type": "markdown",
      "source": [
        "isnumeric(), isdecimal()"
      ],
      "metadata": {
        "id": "fzqa5olDG48V"
      }
    },
    {
      "cell_type": "code",
      "source": [
        "a='12345678'\n",
        "print(a.isdigit())\n",
        "print(a.isdecimal())\n",
        "print(a.isnumeric())"
      ],
      "metadata": {
        "colab": {
          "base_uri": "https://localhost:8080/"
        },
        "id": "RTKVNE53Hq2D",
        "outputId": "ebed5109-0a72-4e1a-e726-8be0a46dd3bc"
      },
      "execution_count": 20,
      "outputs": [
        {
          "output_type": "stream",
          "name": "stdout",
          "text": [
            "True\n",
            "True\n",
            "True\n"
          ]
        }
      ]
    },
    {
      "cell_type": "code",
      "source": [
        "x='9'\n",
        "print()\n",
        "print(x.isdigit())\n",
        "#True\n",
        "print(x.isdecimal())\n",
        "#False\n",
        "print(x.isnumeric())"
      ],
      "metadata": {
        "colab": {
          "base_uri": "https://localhost:8080/"
        },
        "id": "PpP128OOIDjl",
        "outputId": "14c16004-eb98-4006-a1df-2f8a55701026"
      },
      "execution_count": 24,
      "outputs": [
        {
          "output_type": "stream",
          "name": "stdout",
          "text": [
            "\n",
            "True\n",
            "True\n",
            "True\n"
          ]
        }
      ]
    },
    {
      "cell_type": "markdown",
      "source": [
        "islower(), isupper(), lower(), upper()"
      ],
      "metadata": {
        "id": "0Nhsa3yOKcRA"
      }
    },
    {
      "cell_type": "code",
      "source": [
        "a= \"I Love Python\"\n",
        "\n",
        "print(a.islower())\n",
        "print(a.isupper())\n",
        "print(a.upper())\n",
        "print(a.lower())"
      ],
      "metadata": {
        "colab": {
          "base_uri": "https://localhost:8080/"
        },
        "id": "2skdgiR3Kcgk",
        "outputId": "a703b357-19a7-4d80-9057-57289266f955"
      },
      "execution_count": 25,
      "outputs": [
        {
          "output_type": "stream",
          "name": "stdout",
          "text": [
            "False\n",
            "False\n",
            "I LOVE PYTHON\n",
            "i love python\n"
          ]
        }
      ]
    },
    {
      "cell_type": "code",
      "source": [
        "str = \"This is string example....wow!!!\"\n",
        "print(str.islower())\n",
        "print(str.upper())\n",
        "\n",
        "str = \"this is string example....wow!!!\"\n",
        "print(str.islower())\n",
        "print(str.upper())\n"
      ],
      "metadata": {
        "colab": {
          "base_uri": "https://localhost:8080/"
        },
        "id": "DqKhq0tTKh2e",
        "outputId": "1c1ac62d-84ac-4b3e-c677-c9d6529f02d6"
      },
      "execution_count": 26,
      "outputs": [
        {
          "output_type": "stream",
          "name": "stdout",
          "text": [
            "False\n",
            "THIS IS STRING EXAMPLE....WOW!!!\n",
            "True\n",
            "THIS IS STRING EXAMPLE....WOW!!!\n"
          ]
        }
      ]
    },
    {
      "cell_type": "markdown",
      "source": [
        "swapcase()"
      ],
      "metadata": {
        "id": "9_yyQkqsLLvf"
      }
    },
    {
      "cell_type": "code",
      "source": [
        "str = \"this is string example....wow!!!\"\n",
        "print(str.swapcase())\n",
        "\n",
        "str= \"THIS IS STRING EXAMPLE....WOW!!! 1234\"\n",
        "print(str.swapcase())\n",
        ""
      ],
      "metadata": {
        "colab": {
          "base_uri": "https://localhost:8080/"
        },
        "id": "HQeMis7FLL9Z",
        "outputId": "92bd4d9a-7180-4a21-81fc-aef705adbfd3"
      },
      "execution_count": 27,
      "outputs": [
        {
          "output_type": "stream",
          "name": "stdout",
          "text": [
            "THIS IS STRING EXAMPLE....WOW!!!\n",
            "this is string example....wow!!! 1234\n"
          ]
        }
      ]
    },
    {
      "cell_type": "markdown",
      "source": [
        "istitle(), title()"
      ],
      "metadata": {
        "id": "J51smxNIMN5D"
      }
    },
    {
      "cell_type": "code",
      "source": [
        "str = \"This Is String Example....Wow!!!\"\n",
        "print(str.istitle())\n",
        "\n",
        "str = \"This is string example....wow!!!\"\n",
        "print(str.istitle())\n",
        "print(str.title())\n",
        ""
      ],
      "metadata": {
        "colab": {
          "base_uri": "https://localhost:8080/"
        },
        "id": "aDg1tUrMMPpk",
        "outputId": "a6a87812-88d5-42a6-a3e6-6ab72dd0e896"
      },
      "execution_count": 28,
      "outputs": [
        {
          "output_type": "stream",
          "name": "stdout",
          "text": [
            "True\n",
            "False\n",
            "This Is String Example....Wow!!!\n"
          ]
        }
      ]
    },
    {
      "cell_type": "markdown",
      "source": [
        "capitalize"
      ],
      "metadata": {
        "id": "Ov7kR6hkMtpI"
      }
    },
    {
      "cell_type": "code",
      "source": [
        "print('hello world!'.capitalize())\n",
        "print('HELLO WORLD!'.capitalize())\n",
        ""
      ],
      "metadata": {
        "colab": {
          "base_uri": "https://localhost:8080/"
        },
        "id": "Q1Gf66-hMuMp",
        "outputId": "eb1f41c3-df5f-415a-8406-68773b808c61"
      },
      "execution_count": 29,
      "outputs": [
        {
          "output_type": "stream",
          "name": "stdout",
          "text": [
            "Hello world!\n",
            "Hello world!\n"
          ]
        }
      ]
    }
  ]
}