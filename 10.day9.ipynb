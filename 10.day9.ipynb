{
  "nbformat": 4,
  "nbformat_minor": 0,
  "metadata": {
    "colab": {
      "provenance": [],
      "authorship_tag": "ABX9TyN4zhi+a1DxR+HFzRYZ1iox",
      "include_colab_link": true
    },
    "kernelspec": {
      "name": "python3",
      "display_name": "Python 3"
    },
    "language_info": {
      "name": "python"
    }
  },
  "cells": [
    {
      "cell_type": "markdown",
      "metadata": {
        "id": "view-in-github",
        "colab_type": "text"
      },
      "source": [
        "<a href=\"https://colab.research.google.com/github/minsoo3102/python_1/blob/main/10.day9.ipynb\" target=\"_parent\"><img src=\"https://colab.research.google.com/assets/colab-badge.svg\" alt=\"Open In Colab\"/></a>"
      ]
    },
    {
      "cell_type": "markdown",
      "source": [
        "입력도 없고 반환값도 없는 함수"
      ],
      "metadata": {
        "id": "yuUNwJdS5YX3"
      }
    },
    {
      "cell_type": "code",
      "execution_count": 1,
      "metadata": {
        "colab": {
          "base_uri": "https://localhost:8080/"
        },
        "id": "2kreJSYx4Wbb",
        "outputId": "2023962c-f05b-481e-da53-26fc6ddfed8e"
      },
      "outputs": [
        {
          "output_type": "stream",
          "name": "stdout",
          "text": [
            "BlockDMask\n",
            "BlockDMask\n",
            "BlockDMask\n"
          ]
        }
      ],
      "source": [
        "def func1():\n",
        "    print('BlockDMask')\n",
        "\n",
        "func1()\n",
        "func1()\n",
        "func1()"
      ]
    },
    {
      "cell_type": "markdown",
      "source": [
        "입력도 값만 있는 함수"
      ],
      "metadata": {
        "id": "p32fcbnT5b2b"
      }
    },
    {
      "cell_type": "code",
      "source": [
        "def func2(a,b):\n",
        "\tprint(f'{a} 곱하기 {b} = {a*b}')\n",
        "\n",
        "func2(1,2)\n",
        "func2(1,3)\n",
        "func2(2,4)"
      ],
      "metadata": {
        "colab": {
          "base_uri": "https://localhost:8080/"
        },
        "id": "0ZMs2pKq5J8Y",
        "outputId": "f7d9fb36-b036-44de-e3b5-45d89c23808e"
      },
      "execution_count": 2,
      "outputs": [
        {
          "output_type": "stream",
          "name": "stdout",
          "text": [
            "1 곱하기 2 = 2\n",
            "1 곱하기 3 = 3\n",
            "2 곱하기 4 = 8\n"
          ]
        }
      ]
    },
    {
      "cell_type": "markdown",
      "source": [
        "반환 값만 있는 함수"
      ],
      "metadata": {
        "id": "WuVAokxF5fpE"
      }
    },
    {
      "cell_type": "code",
      "source": [
        "def func3():\n",
        "\treturn \"abcdefg\"\n",
        "\n",
        "a = func3()\n",
        "print(a, 'GG', sep=\" \")"
      ],
      "metadata": {
        "colab": {
          "base_uri": "https://localhost:8080/"
        },
        "id": "kLVmlU755Lsk",
        "outputId": "69656063-417a-4c33-8385-3a2fa1865a6f"
      },
      "execution_count": 3,
      "outputs": [
        {
          "output_type": "stream",
          "name": "stdout",
          "text": [
            "abcdefg GG\n"
          ]
        }
      ]
    },
    {
      "cell_type": "markdown",
      "source": [
        "입력값 반환값 둘 다 있는 함수"
      ],
      "metadata": {
        "id": "E9jFAFFg5i76"
      }
    },
    {
      "cell_type": "code",
      "source": [
        "def func4(a,b):\n",
        "  return a * b\n",
        "\n",
        "a = input()\n",
        "c = func4(int(a), 9)\n",
        "print(c)"
      ],
      "metadata": {
        "colab": {
          "base_uri": "https://localhost:8080/"
        },
        "id": "XBMfAPCq50gg",
        "outputId": "074dde46-ac3a-4d59-d12d-88a9fce78b0b"
      },
      "execution_count": 5,
      "outputs": [
        {
          "output_type": "stream",
          "name": "stdout",
          "text": [
            "3\n",
            "27\n"
          ]
        }
      ]
    },
    {
      "cell_type": "code",
      "source": [
        "for i in range(1,10):\n",
        "    print(f'{2}x{i} = {2*i}')\n",
        "for i in range(1,10):\n",
        "    print(f'{3}x{i} = {3*i}')\n",
        "\n",
        "print()\n",
        "print()\n",
        "print()\n",
        "\n",
        "def gugudan(num):\n",
        "    for i in range(1,10):\n",
        "        print(f'{num}x{i}={num*i}')\n",
        "    print()\n",
        "#구구단 출력\n",
        "gugudan(2)\n",
        "\n",
        "gugudan(2)"
      ],
      "metadata": {
        "colab": {
          "base_uri": "https://localhost:8080/"
        },
        "id": "24B0O6b974K8",
        "outputId": "f3bbc64f-6f09-4c6c-af9d-d5273dee9ce4"
      },
      "execution_count": 6,
      "outputs": [
        {
          "output_type": "stream",
          "name": "stdout",
          "text": [
            "2x1 = 2\n",
            "2x2 = 4\n",
            "2x3 = 6\n",
            "2x4 = 8\n",
            "2x5 = 10\n",
            "2x6 = 12\n",
            "2x7 = 14\n",
            "2x8 = 16\n",
            "2x9 = 18\n",
            "3x1 = 3\n",
            "3x2 = 6\n",
            "3x3 = 9\n",
            "3x4 = 12\n",
            "3x5 = 15\n",
            "3x6 = 18\n",
            "3x7 = 21\n",
            "3x8 = 24\n",
            "3x9 = 27\n",
            "\n",
            "\n",
            "\n",
            "2x1=2\n",
            "2x2=4\n",
            "2x3=6\n",
            "2x4=8\n",
            "2x5=10\n",
            "2x6=12\n",
            "2x7=14\n",
            "2x8=16\n",
            "2x9=18\n",
            "\n",
            "2x1=2\n",
            "2x2=4\n",
            "2x3=6\n",
            "2x4=8\n",
            "2x5=10\n",
            "2x6=12\n",
            "2x7=14\n",
            "2x8=16\n",
            "2x9=18\n",
            "\n"
          ]
        }
      ]
    },
    {
      "cell_type": "markdown",
      "source": [
        "디폴트 파라미터 예제1"
      ],
      "metadata": {
        "id": "6McgesN88Clg"
      }
    },
    {
      "cell_type": "code",
      "source": [
        "def func1(a, b=5, c=10):\n",
        "    return a + b + c\n",
        "\n",
        "func1(1,2,3)\n",
        "func1(1,2)\n",
        "func1(1)\n"
      ],
      "metadata": {
        "colab": {
          "base_uri": "https://localhost:8080/"
        },
        "id": "HVbHsACt8DBA",
        "outputId": "f782959b-8044-43e8-a1fe-665e8e34ca40"
      },
      "execution_count": 7,
      "outputs": [
        {
          "output_type": "execute_result",
          "data": {
            "text/plain": [
              "16"
            ]
          },
          "metadata": {},
          "execution_count": 7
        }
      ]
    },
    {
      "cell_type": "markdown",
      "source": [
        "디폴트 파라미터 예제2"
      ],
      "metadata": {
        "id": "u39Nt3g38W5w"
      }
    },
    {
      "cell_type": "code",
      "source": [
        "def func2(a=10, b=20):\n",
        "    return a+b\n",
        "\n",
        "print(func2(1, 2))\n",
        "print(func2(1))\n",
        "print(func2())"
      ],
      "metadata": {
        "colab": {
          "base_uri": "https://localhost:8080/"
        },
        "id": "Q87ndq5T8Wa8",
        "outputId": "6b1ebe59-45e0-4cbf-8be3-1b1b1bef4f3c"
      },
      "execution_count": 8,
      "outputs": [
        {
          "output_type": "stream",
          "name": "stdout",
          "text": [
            "3\n",
            "21\n",
            "30\n"
          ]
        }
      ]
    },
    {
      "cell_type": "markdown",
      "source": [
        "디폴트 파라미터 예제3"
      ],
      "metadata": {
        "id": "RYiHU8MY8_E9"
      }
    },
    {
      "cell_type": "code",
      "source": [
        "def func3(a = 10,b,c):\n",
        "    return a + b + c\n",
        "    func3(1,2)\n",
        "\n",
        "    func3( ,1, 2)"
      ],
      "metadata": {
        "colab": {
          "base_uri": "https://localhost:8080/",
          "height": 110
        },
        "id": "DDtSR-WL8fxU",
        "outputId": "a8fe9b61-a3cc-4094-aa9c-aa5149f77107"
      },
      "execution_count": 9,
      "outputs": [
        {
          "output_type": "error",
          "ename": "SyntaxError",
          "evalue": "non-default argument follows default argument (<ipython-input-9-c7ed7ca9ee8c>, line 1)",
          "traceback": [
            "\u001b[0;36m  File \u001b[0;32m\"<ipython-input-9-c7ed7ca9ee8c>\"\u001b[0;36m, line \u001b[0;32m1\u001b[0m\n\u001b[0;31m    def func3(a = 10,b,c):\u001b[0m\n\u001b[0m                     ^\u001b[0m\n\u001b[0;31mSyntaxError\u001b[0m\u001b[0;31m:\u001b[0m non-default argument follows default argument\n"
          ]
        }
      ]
    },
    {
      "cell_type": "markdown",
      "source": [
        "매개변수 N개"
      ],
      "metadata": {
        "id": "V3Pfoa8c84Gl"
      }
    },
    {
      "cell_type": "code",
      "source": [
        "def func6(*args):\n",
        "    a=0\n",
        "    for i in args:\n",
        "        a = a+i\n",
        "    return a\n",
        "\n",
        "b = func6(1,5)\n",
        "print(b)\n",
        "\n",
        "c=func6(2,3,4,5)\n",
        "print(c)\n",
        "\n",
        "d=func6(1,2,3,4,5,4,3,2,1)\n",
        "print(d)\n",
        "\n",
        "e=func6()\n",
        "print(e)"
      ],
      "metadata": {
        "colab": {
          "base_uri": "https://localhost:8080/"
        },
        "id": "wWypkRkQ8qJH",
        "outputId": "a88f2c2c-3e65-4983-ebcf-561686e9d716"
      },
      "execution_count": 10,
      "outputs": [
        {
          "output_type": "stream",
          "name": "stdout",
          "text": [
            "6\n",
            "14\n",
            "25\n",
            "0\n"
          ]
        }
      ]
    },
    {
      "cell_type": "code",
      "source": [
        "def test(*val):\n",
        "    for i in val:\n",
        "        print(i)\n",
        "\n",
        "test(1,'a','c',3)"
      ],
      "metadata": {
        "colab": {
          "base_uri": "https://localhost:8080/"
        },
        "id": "CUHsxgDi9LwR",
        "outputId": "169a526b-6907-4ec1-ca10-ba5eb70a9603"
      },
      "execution_count": 11,
      "outputs": [
        {
          "output_type": "stream",
          "name": "stdout",
          "text": [
            "1\n",
            "a\n",
            "c\n",
            "3\n"
          ]
        }
      ]
    },
    {
      "cell_type": "code",
      "source": [
        "def sum_mul(choice,*val):\n",
        "    if choice =='sum':\n",
        "        result = 0\n",
        "        for i in val:\n",
        "            result = result + i\n",
        "    elif choice == 'mul':\n",
        "        result = 1\n",
        "        for i in val:\n",
        "            result = result * i\n",
        "    print()\n",
        "    return result\n",
        "\n",
        "print(sum_mul('sum',1,2,3,4,5))\n",
        "\n",
        "print(sum_mul('mul',1,2,3,4,5))"
      ],
      "metadata": {
        "colab": {
          "base_uri": "https://localhost:8080/"
        },
        "id": "Pjj5u6Zw9PSM",
        "outputId": "a3c934ad-99c3-4113-daa6-4bcbf2869416"
      },
      "execution_count": 12,
      "outputs": [
        {
          "output_type": "stream",
          "name": "stdout",
          "text": [
            "\n",
            "15\n",
            "\n",
            "120\n"
          ]
        }
      ]
    },
    {
      "cell_type": "code",
      "source": [
        "def comp(score=0):\n",
        "    if score ==0:\n",
        "        return 0\n",
        "    elif score > 50:\n",
        "        return 2\n",
        "    else:\n",
        "        return 1\n",
        "\n",
        "grade = comp (40)\n",
        "print(\"Grade is\", grade,\"for\",40)\n",
        "\n",
        "grade = comp (80)\n",
        "print(\"Grade is\",grade,\"for\",80)\n",
        "\n",
        "grade = comp()\n",
        "print(\"Grade is\",grade,\"for no score\")"
      ],
      "metadata": {
        "colab": {
          "base_uri": "https://localhost:8080/"
        },
        "id": "wirJGVxv9UN8",
        "outputId": "a4690941-cb96-44fe-82c2-ccdd326c1a37"
      },
      "execution_count": 13,
      "outputs": [
        {
          "output_type": "stream",
          "name": "stdout",
          "text": [
            "Grade is 1 for 40\n",
            "Grade is 2 for 80\n",
            "Grade is 0 for no score\n"
          ]
        }
      ]
    },
    {
      "cell_type": "markdown",
      "source": [
        "Named parameter"
      ],
      "metadata": {
        "id": "TvLweior9XMb"
      }
    },
    {
      "cell_type": "code",
      "source": [
        "def report(name,age,score):\n",
        "    print(name,score)\n",
        "\n",
        "report(age=10, name=\"Kim\",score=80)\n",
        "report(\"Kim\",10,80)"
      ],
      "metadata": {
        "colab": {
          "base_uri": "https://localhost:8080/"
        },
        "id": "RfOFmAm09VbQ",
        "outputId": "feaf2806-d4a2-4b77-9f7a-a232d279b103"
      },
      "execution_count": 14,
      "outputs": [
        {
          "output_type": "stream",
          "name": "stdout",
          "text": [
            "Kim 80\n",
            "Kim 80\n"
          ]
        }
      ]
    }
  ]
}