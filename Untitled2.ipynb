{
  "nbformat": 4,
  "nbformat_minor": 0,
  "metadata": {
    "colab": {
      "provenance": [],
      "authorship_tag": "ABX9TyPgVdFOoyDumtY5cbgDca/5",
      "include_colab_link": true
    },
    "kernelspec": {
      "name": "python3",
      "display_name": "Python 3"
    },
    "language_info": {
      "name": "python"
    }
  },
  "cells": [
    {
      "cell_type": "markdown",
      "metadata": {
        "id": "view-in-github",
        "colab_type": "text"
      },
      "source": [
        "<a href=\"https://colab.research.google.com/github/minsoo3102/python_1/blob/main/Untitled2.ipynb\" target=\"_parent\"><img src=\"https://colab.research.google.com/assets/colab-badge.svg\" alt=\"Open In Colab\"/></a>"
      ]
    },
    {
      "cell_type": "markdown",
      "source": [
        "파일 열고 쓰기 - write"
      ],
      "metadata": {
        "id": "abbXZZy_QAwP"
      }
    },
    {
      "cell_type": "code",
      "execution_count": 6,
      "metadata": {
        "id": "-4iN1AdS990j"
      },
      "outputs": [],
      "source": [
        "f = open('ex_memo.txt','w')\n",
        "students = ['김철수', '최영', '한석규', '김태희']\n",
        "for student in students:\n",
        "    msg = student\n",
        "    f.write(msg+\"\\n\")\n",
        "f.close()\n",
        "\n",
        "\n",
        "\n",
        "file = open('hello.txt', 'w')\n",
        "file.write('Hello, world!')\n",
        "file.close()\n"
      ]
    },
    {
      "cell_type": "code",
      "source": [
        "f = open('test.txt','a', encoding='UTF-8')\n",
        "\n",
        "for i in range(4,10):\n",
        "    data = \"%d 번째 줄입니다. \\n\"%i\n",
        "    f.write(data)\n",
        "f.close()\n"
      ],
      "metadata": {
        "id": "wo7TvzqfQyHm"
      },
      "execution_count": 5,
      "outputs": []
    },
    {
      "cell_type": "markdown",
      "source": [
        "파일 읽고 쓰기 - write"
      ],
      "metadata": {
        "id": "tM0aMgfsRGED"
      }
    },
    {
      "cell_type": "code",
      "source": [
        "dict1 = {'hello': 1, 'brother': 2}\n",
        "file1 = open(\"Original.txt\", \"w\")\n",
        "\n",
        "str1 = repr(dict1)\n",
        "file1.write(\"dict1 = \" + str1 + \"\\n\")\n",
        "\n",
        "file.close()\n",
        "\n",
        "test_file = open(\"test.txt\", \"w\")\n",
        "\n",
        "a = 1\n",
        "b = 2\n",
        "test_file.write('%d - %d = %d' %(a, b, a+b))\n",
        "\n",
        "test_file.close"
      ],
      "metadata": {
        "id": "mzllCdj_RGUT"
      },
      "execution_count": null,
      "outputs": []
    },
    {
      "cell_type": "code",
      "source": [
        "from random import randint\n",
        "\n",
        "with open('text.txt', 'w') as f:\n",
        "    f.write('이번주 로또 번호는 →')\n",
        "    for lotto in range(6):\n",
        "        f.write(str(randint(0, 50)) + ' , ')"
      ],
      "metadata": {
        "id": "mLvgfrh9Ro4J"
      },
      "execution_count": 9,
      "outputs": []
    },
    {
      "cell_type": "markdown",
      "source": [
        "파일 쓰기 - writelines"
      ],
      "metadata": {
        "id": "1zTNFLFIRd7I"
      }
    },
    {
      "cell_type": "code",
      "source": [
        "lines = ['안녕하세요.\\n', '파이썬\\n', '코딩 도장입니다 \\n']\n",
        "\n",
        "with open('hello.txt', 'w') as file:\n",
        "    file.writelines(lines)\n",
        "file.close()\n",
        "\n",
        "f = open(\"hz.txt\", \"a\", encoding='UTF-8')\n",
        "f.writelines([\"\\n홈짱닷컴\", \"\\nHomzzang.com\"])\n",
        "f.close()"
      ],
      "metadata": {
        "id": "gzTmYlrhRta0"
      },
      "execution_count": 10,
      "outputs": []
    },
    {
      "cell_type": "markdown",
      "source": [
        "write() VS writelines()"
      ],
      "metadata": {
        "id": "E7NZBHWwRwO_"
      }
    },
    {
      "cell_type": "code",
      "source": [
        "f = open('ex_memo.txt', 'w')\n",
        "students = ['김철수', '최영', '한석규', '김태희']\n",
        "for student in students:\n",
        "    msg = student\n",
        "    f.write(msg+\"\\n\")\n",
        "f.close()\n",
        "\n",
        "f = open('ex_memo2.txt', 'w')\n",
        "students = ['김철수', '최영', '한석규', '김태희']\n",
        "f.writelines('\\n'.join(students))\n",
        "f.close"
      ],
      "metadata": {
        "colab": {
          "base_uri": "https://localhost:8080/"
        },
        "id": "zXpuAVxyRwm4",
        "outputId": "c6b173c9-7b3c-4257-9f9b-c19032f28fd2"
      },
      "execution_count": 11,
      "outputs": [
        {
          "output_type": "execute_result",
          "data": {
            "text/plain": [
              "<function TextIOWrapper.close()>"
            ]
          },
          "metadata": {},
          "execution_count": 11
        }
      ]
    },
    {
      "cell_type": "markdown",
      "source": [
        "파일 읽기 함수 - read(), readline(), readlines()"
      ],
      "metadata": {
        "id": "HUluE7DGSCyM"
      }
    },
    {
      "cell_type": "code",
      "source": [
        "f = open('ex_memo.txt', 'r')\n",
        "\n",
        "print('\\n1. read()')\n",
        "print(f'위치 : {f.tell()}')\n",
        "s1 = f.read(1)\n",
        "print(s1)\n",
        "print('\\n2. readline()')\n",
        "print(f'위치 : {f.tell()}')\n",
        "s2 = f.readline()\n",
        "print(s2)\n",
        "print('\\n3. readlines()')\n",
        "print(f'위치 : {f.tell()}')\n",
        "s3 = f.readlines()\n",
        "print(s3)"
      ],
      "metadata": {
        "colab": {
          "base_uri": "https://localhost:8080/"
        },
        "id": "a_fYsVQkSDbv",
        "outputId": "d12c8694-8678-49bb-9373-86035cfd2142"
      },
      "execution_count": 12,
      "outputs": [
        {
          "output_type": "stream",
          "name": "stdout",
          "text": [
            "\n",
            "1. read()\n",
            "위치 : 0\n",
            "김\n",
            "\n",
            "2. readline()\n",
            "위치 : 3\n",
            "철수\n",
            "\n",
            "\n",
            "3. readlines()\n",
            "위치 : 10\n",
            "['최영\\n', '한석규\\n', '김태희\\n']\n"
          ]
        }
      ]
    },
    {
      "cell_type": "markdown",
      "source": [
        "파일 읽기 - read()"
      ],
      "metadata": {
        "id": "YS6qzNc9SGSo"
      }
    },
    {
      "cell_type": "code",
      "source": [
        "f = open(r'text.txt')\n",
        "#f = open('test.txt', 'r')\n",
        "text = f.read()\n",
        "print(text)\n",
        "\n",
        "f.close()"
      ],
      "metadata": {
        "colab": {
          "base_uri": "https://localhost:8080/"
        },
        "id": "yapiZRuOSJAe",
        "outputId": "788eefed-7620-4990-a724-a3b5d29a3d2f"
      },
      "execution_count": 13,
      "outputs": [
        {
          "output_type": "stream",
          "name": "stdout",
          "text": [
            "이번주 로또 번호는 →3 , 0 , 45 , 43 , 9 , 27 , \n"
          ]
        }
      ]
    },
    {
      "cell_type": "markdown",
      "source": [
        "파일 읽기 - readline()"
      ],
      "metadata": {
        "id": "Fq9K3JRnSMqt"
      }
    },
    {
      "cell_type": "code",
      "source": [
        "f = open(r'test.txt')\n",
        "line = f.readline()\n",
        "line = line.strip()\n",
        "print(line)\n",
        "line = f.readline()\n",
        "line = line.strip()\n",
        "print(line)\n",
        "line = f.readline()\n",
        "line = line.strip()\n",
        "print(line)\n",
        "\n",
        "f.close()"
      ],
      "metadata": {
        "id": "fL6CRyFQSNAY"
      },
      "execution_count": null,
      "outputs": []
    },
    {
      "cell_type": "markdown",
      "source": [
        "seek"
      ],
      "metadata": {
        "id": "bpdiEa0bSPFf"
      }
    },
    {
      "cell_type": "code",
      "source": [
        "f = open(r'text.txt')\n",
        "\n",
        "print('\\n4. seek(0), readline()')\n",
        "\n",
        "f.seek(0)\n",
        "print(f'위치 : {f.tell()}')\n",
        "\n",
        "s4 = f.readline()\n",
        "print(s4)\n",
        "\n",
        "f.close()"
      ],
      "metadata": {
        "id": "MfAV3QvYSRTb",
        "outputId": "b7db1f91-966b-4aac-ee04-d9eaf1a5ae5e",
        "colab": {
          "base_uri": "https://localhost:8080/"
        }
      },
      "execution_count": 14,
      "outputs": [
        {
          "output_type": "stream",
          "name": "stdout",
          "text": [
            "\n",
            "4. seek(0), readline()\n",
            "위치 : 0\n",
            "이번주 로또 번호는 →3 , 0 , 45 , 43 , 9 , 27 , \n"
          ]
        }
      ]
    }
  ]
}