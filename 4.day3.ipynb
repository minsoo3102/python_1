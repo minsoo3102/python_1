{
  "nbformat": 4,
  "nbformat_minor": 0,
  "metadata": {
    "colab": {
      "provenance": [],
      "authorship_tag": "ABX9TyOw2ujmh72jlw2IQG/GuYLo",
      "include_colab_link": true
    },
    "kernelspec": {
      "name": "python3",
      "display_name": "Python 3"
    },
    "language_info": {
      "name": "python"
    }
  },
  "cells": [
    {
      "cell_type": "markdown",
      "metadata": {
        "id": "view-in-github",
        "colab_type": "text"
      },
      "source": [
        "<a href=\"https://colab.research.google.com/github/minsoo3102/python_1/blob/main/day3.ipynb\" target=\"_parent\"><img src=\"https://colab.research.google.com/assets/colab-badge.svg\" alt=\"Open In Colab\"/></a>"
      ]
    },
    {
      "cell_type": "markdown",
      "source": [
        "1. 산술 연산자"
      ],
      "metadata": {
        "id": "oaDtbHrgCbjp"
      }
    },
    {
      "cell_type": "code",
      "source": [
        "a = 4\n",
        "b = 3\n",
        "\n",
        "c = 1\n",
        "d = 2\n",
        "print(a/b)\n",
        "print(c/d)\n",
        "\n",
        "e = 7\n",
        "f = 3\n",
        "print(e//f)\n",
        "print(e%f)\n",
        "\n",
        "print(e**f)"
      ],
      "metadata": {
        "colab": {
          "base_uri": "https://localhost:8080/"
        },
        "id": "gyF1c3ppDV6p",
        "outputId": "ab71e916-b929-4170-e348-eb9bbc066bb7"
      },
      "execution_count": null,
      "outputs": [
        {
          "output_type": "stream",
          "name": "stdout",
          "text": [
            "1.3333333333333333\n",
            "0.5\n",
            "2\n",
            "1\n",
            "343\n"
          ]
        }
      ]
    },
    {
      "cell_type": "markdown",
      "source": [
        "몫과 나머지 한번에 (dvimod)"
      ],
      "metadata": {
        "id": "-U9ZLmQbE2pY"
      }
    },
    {
      "cell_type": "code",
      "source": [
        "quotient, remainder = divmod(5,2)\n",
        "print(quotient, remainder)"
      ],
      "metadata": {
        "colab": {
          "base_uri": "https://localhost:8080/"
        },
        "id": "BWW2ZkpsE8oT",
        "outputId": "2893a537-7d1f-4453-9e5c-cb0af8034b4c"
      },
      "execution_count": null,
      "outputs": [
        {
          "output_type": "stream",
          "name": "stdout",
          "text": [
            "2 1\n"
          ]
        }
      ]
    },
    {
      "cell_type": "markdown",
      "source": [
        "대입 연산자"
      ],
      "metadata": {
        "id": "l6ZcU7iXFeZM"
      }
    },
    {
      "cell_type": "code",
      "source": [
        "a = 11 + 2\n",
        "b = 12 - 2\n",
        "c = 13 * 2\n",
        "d = 14 / 2\n",
        "e = 15 ** 2\n",
        "f = 16 // 2\n",
        "g = 17 % 3\n",
        "\n",
        "print(a,b,c,d,e,f,g)"
      ],
      "metadata": {
        "colab": {
          "base_uri": "https://localhost:8080/"
        },
        "id": "sLP6y268FgCJ",
        "outputId": "91a80aa1-ab75-4f61-b2bd-1f6ceb934fae"
      },
      "execution_count": null,
      "outputs": [
        {
          "output_type": "stream",
          "name": "stdout",
          "text": [
            "13 10 26 7.0 225 8 2\n"
          ]
        }
      ]
    },
    {
      "cell_type": "code",
      "source": [
        "i = 3\n",
        "i +=3\n",
        "print(i)"
      ],
      "metadata": {
        "colab": {
          "base_uri": "https://localhost:8080/"
        },
        "id": "2cGxFyevHnuM",
        "outputId": "b413c371-1e72-476e-e16d-a68b2524ae43"
      },
      "execution_count": null,
      "outputs": [
        {
          "output_type": "stream",
          "name": "stdout",
          "text": [
            "6\n"
          ]
        }
      ]
    },
    {
      "cell_type": "code",
      "source": [
        "i = 3\n",
        "i+=3\n",
        "print(i)\n",
        "i-=3\n",
        "print(i)\n",
        "i *=2\n",
        "print(i)\n",
        "i /=2\n",
        "print(int(i))\n",
        "i%=2\n",
        "print(i)"
      ],
      "metadata": {
        "id": "A3mDlMzSHv_5",
        "colab": {
          "base_uri": "https://localhost:8080/"
        },
        "outputId": "14ac9b74-d896-47df-d9c0-3b38a2fab079"
      },
      "execution_count": null,
      "outputs": [
        {
          "output_type": "stream",
          "name": "stdout",
          "text": [
            "6\n",
            "3\n",
            "6\n",
            "3\n",
            "1.0\n"
          ]
        }
      ]
    },
    {
      "cell_type": "markdown",
      "source": [
        "관계 연산자"
      ],
      "metadata": {
        "id": "NTeM-GWuglMM"
      }
    },
    {
      "cell_type": "code",
      "source": [
        "a=10\n",
        "b=3\n",
        "print(\"10 == 3 =>\",a == b)\n",
        "print(\"10 != 3 =>\",a != b)\n",
        "print(\"10 > 3 =>\",a > b)\n",
        "print(\"10 >= 3 =>\",a >= b)\n",
        "print(\"10 < 3 =>\",a < b)\n",
        "print(\"10 <= 3 =>\",a <= b)\n",
        "print()"
      ],
      "metadata": {
        "colab": {
          "base_uri": "https://localhost:8080/"
        },
        "id": "HF_tQ5ZRgnIx",
        "outputId": "585e50d2-35bb-4127-cf57-69bc8016c751"
      },
      "execution_count": null,
      "outputs": [
        {
          "output_type": "stream",
          "name": "stdout",
          "text": [
            "10 == 3 => False\n",
            "10 != 3 => True\n",
            "10 > 3 => True\n",
            "10 >= 3 => True\n",
            "10 < 3 => False\n",
            "10 <= 3 => False\n",
            "\n"
          ]
        }
      ]
    },
    {
      "cell_type": "markdown",
      "source": [
        "비트 연산자"
      ],
      "metadata": {
        "id": "DwMdtENCi98K"
      }
    },
    {
      "cell_type": "code",
      "source": [
        "a = 13\n",
        "print(bin(13))\n"
      ],
      "metadata": {
        "colab": {
          "base_uri": "https://localhost:8080/"
        },
        "id": "kyN7brvni_PY",
        "outputId": "5b78a850-2a56-4346-ab0d-50dccb7f2b0d"
      },
      "execution_count": null,
      "outputs": [
        {
          "output_type": "stream",
          "name": "stdout",
          "text": [
            "0b1101\n"
          ]
        }
      ]
    },
    {
      "cell_type": "code",
      "source": [
        "a = 13\n",
        "print(bin(a))\n",
        "print(hex(a))"
      ],
      "metadata": {
        "colab": {
          "base_uri": "https://localhost:8080/"
        },
        "id": "jrDuQhgCjM2s",
        "outputId": "dfa412c3-1d11-44f2-d57f-6600fdfe9bdc"
      },
      "execution_count": null,
      "outputs": [
        {
          "output_type": "stream",
          "name": "stdout",
          "text": [
            "0b1101\n",
            "0xd\n"
          ]
        }
      ]
    },
    {
      "cell_type": "markdown",
      "source": [
        "비트 논리 연산자"
      ],
      "metadata": {
        "id": "u_HbU4Onl3vY"
      }
    },
    {
      "cell_type": "code",
      "source": [
        "AND"
      ],
      "metadata": {
        "id": "DAlbuFbW9S0w"
      },
      "execution_count": null,
      "outputs": []
    },
    {
      "cell_type": "code",
      "source": [
        "a = 13\n",
        "b = 9\n",
        "print(bin(a))\n",
        "print(bin(b))\n",
        "print(' ')\n",
        "print(bin(a&b))\n",
        "print(a&b)"
      ],
      "metadata": {
        "id": "R2jeilk4l5Gu",
        "colab": {
          "base_uri": "https://localhost:8080/"
        },
        "outputId": "a97f2b87-7533-42d6-fa43-e113440e6bc8"
      },
      "execution_count": 4,
      "outputs": [
        {
          "output_type": "stream",
          "name": "stdout",
          "text": [
            "0b1101\n",
            "0b1001\n",
            " \n",
            "0b1001\n",
            "9\n"
          ]
        }
      ]
    },
    {
      "cell_type": "markdown",
      "source": [
        "OR"
      ],
      "metadata": {
        "id": "bT8unVUQ9UTp"
      }
    },
    {
      "cell_type": "code",
      "source": [
        "a = 13\n",
        "b = 9\n",
        "print(bin(a))\n",
        "print(bin(b))\n",
        "print(' ')\n",
        "print(bin(a|b))\n",
        "print(a|b)"
      ],
      "metadata": {
        "colab": {
          "base_uri": "https://localhost:8080/"
        },
        "id": "DAgp-YgP9Vtw",
        "outputId": "caba250f-9e5e-4402-a7fe-90dac515da75"
      },
      "execution_count": 5,
      "outputs": [
        {
          "output_type": "stream",
          "name": "stdout",
          "text": [
            "0b1101\n",
            "0b1001\n",
            " \n",
            "0b1101\n",
            "13\n"
          ]
        }
      ]
    },
    {
      "cell_type": "markdown",
      "source": [
        "XOR"
      ],
      "metadata": {
        "id": "IML51gZx9elu"
      }
    },
    {
      "cell_type": "code",
      "source": [
        "a = 13\n",
        "b = 9\n",
        "print(bin(a))\n",
        "print(bin(b))\n",
        "print(' ')\n",
        "print(bin(a^b))\n",
        "print(a^b)"
      ],
      "metadata": {
        "colab": {
          "base_uri": "https://localhost:8080/"
        },
        "id": "piI8YnAy9hFj",
        "outputId": "6b2b87b5-77e4-46b7-e941-437b36fc52fe"
      },
      "execution_count": 6,
      "outputs": [
        {
          "output_type": "stream",
          "name": "stdout",
          "text": [
            "0b1101\n",
            "0b1001\n",
            " \n",
            "0b100\n",
            "4\n"
          ]
        }
      ]
    },
    {
      "cell_type": "code",
      "source": [
        "NOT"
      ],
      "metadata": {
        "id": "jp5y1FWW9kz4"
      },
      "execution_count": null,
      "outputs": []
    },
    {
      "cell_type": "code",
      "source": [
        "a = 13\n",
        "b = 9\n",
        "print(' ')\n",
        "print(bin(a))\n",
        "print(bin(~a))"
      ],
      "metadata": {
        "colab": {
          "base_uri": "https://localhost:8080/"
        },
        "id": "xa9KJBhR9kCH",
        "outputId": "67a9d5d0-59b1-4043-a72f-ab6f5279a9b4"
      },
      "execution_count": 9,
      "outputs": [
        {
          "output_type": "stream",
          "name": "stdout",
          "text": [
            " \n",
            "0b1101\n",
            "-0b1110\n"
          ]
        }
      ]
    }
  ]
}
